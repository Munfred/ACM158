{
 "cells": [
  {
   "cell_type": "markdown",
   "metadata": {},
   "source": [
    "## IDS/ACM/CS 158: Fundamentals of Statistical Learning\n",
    "### PS1, Problem 1: K-NN and Linear Regression for Regression.\n",
    "> Name: Beltrame, Eduardo\n",
    " \n",
    "> Email address: edaveiga@caltech.edu\n"
   ]
  },
  {
   "cell_type": "markdown",
   "metadata": {},
   "source": [
    "### Problem 1 part a) Write a function `knn_regression`, which implements the k-NN method"
   ]
  },
  {
   "cell_type": "code",
   "execution_count": 199,
   "metadata": {},
   "outputs": [],
   "source": [
    "import pandas as pd\n",
    "import numpy as np\n",
    "import matplotlib.pyplot as plt\n",
    "from scipy.spatial.distance import pdist, squareform\n",
    "from numpy.linalg import inv\n",
    "from numpy import matmul"
   ]
  },
  {
   "cell_type": "code",
   "execution_count": 167,
   "metadata": {},
   "outputs": [],
   "source": [
    "def knn_regression(K, D, X):\n",
    "    df = pd.DataFrame(D)\n",
    "    #get number of dimensions in our training data\n",
    "    dims = np.shape(df)[1] -1\n",
    "    \n",
    "    # check that the dimensions of D and X match \n",
    "    assert dims==np.shape(X)[0]\n",
    "    #concatenate the new point with the training data\n",
    "    concat = df.iloc[:,0:dims].append(pd.Series([1,2,dims], index=df.iloc[:,0:dims].columns),ignore_index=True)\n",
    "    \n",
    "    # calculate distance matrix\n",
    "    distance_matrix=squareform(pdist(df))\n",
    "    \n",
    "    \n",
    "    # put the indices of the K lowest entries in the first K entries of `partition` \n",
    "    partition = np.argpartition(distance_matrix[-1],K)\n",
    "    # calculate predicted Y by doing the mean of the Y's of the fetched indices\n",
    "    kmean = df.loc[partition[:K]]['Y']\n",
    "    Y = kmean\n",
    "    return kmean"
   ]
  },
  {
   "cell_type": "code",
   "execution_count": null,
   "metadata": {},
   "outputs": [],
   "source": []
  },
  {
   "cell_type": "markdown",
   "metadata": {},
   "source": [
    "### Problem 1 part b) Write a function `linreg_regression`, which implements the linear regression method\n",
    "I used [this tutorial](https://towardsdatascience.com/multiple-linear-regression-from-scratch-in-numpy-36a3e8ac8014) to make the OLS using classes\n"
   ]
  },
  {
   "cell_type": "code",
   "execution_count": 273,
   "metadata": {},
   "outputs": [],
   "source": [
    "class OLS:\n",
    "    def __init__(self):\n",
    "        self.coefficients=[]\n",
    "    def fit(self, X, y):\n",
    "        ones = np.ones(shape=X.shape[0]).reshape(-1,1)\n",
    "        X = np.concatenate((ones, X), 1)\n",
    "        self.coefficients = matmul(matmul(inv(matmul(X.T, X)), X.T), y)\n",
    "        \n",
    "    def predict(self, entry):\n",
    "        b0 = self.coefficients[0]\n",
    "        other_betas = self.coefficients[1:]\n",
    "        prediction = b0\n",
    "        \n",
    "        for xi, bi in zip(entry, other_betas): prediction = prediction + (bi*xi)\n",
    "        return prediction\n",
    "\n",
    "def linreg_regression(D, X):\n",
    "    df = pd.DataFrame(D)\n",
    "    dims = np.shape(df)[1] -1\n",
    "    # check that the dimensions of D and X match \n",
    "    assert dims==np.shape(X)[0]\n",
    "    \n",
    "    model.fit(df.iloc[:,0:dims].values,df.iloc[:,dims:dims+1].values)\n",
    "    return model.predict(X)\n",
    "    \n",
    "    "
   ]
  },
  {
   "cell_type": "markdown",
   "metadata": {},
   "source": [
    "### Problem 1 part c) Write a script `ps1problem1` that compares the two methods on two different data sets, dataset1 and dataset2"
   ]
  },
  {
   "cell_type": "code",
   "execution_count": 296,
   "metadata": {},
   "outputs": [
    {
     "name": "stdout",
     "output_type": "stream",
     "text": [
      "The mean squared error of linreg on test1 dataset is:\n",
      "0.04266437566774965\n",
      "The mean squared error of linreg on test2 dataset is:\n",
      "2.3068086726109702\n"
     ]
    }
   ],
   "source": [
    "# compute linreg error on dataset 1\n",
    "D = train1 = pd.read_csv('./data/dataset1_train.csv')\n",
    "test1 = pd.read_csv('./data/dataset1_test.csv')\n",
    "\n",
    "linreg_square_errors1 = []\n",
    "for idx, row in test1.iterrows():\n",
    "    X = row[0:3]\n",
    "    prediction = linreg_regression(D=D, X=X)\n",
    "    truth = row[3]\n",
    "    error = prediction - truth\n",
    "    linreg_square_errors1.append(error*error)\n",
    "\n",
    "print('The mean squared error of linreg on test1 dataset is:')\n",
    "linreg_mse1=np.mean(linreg_square_errors1)\n",
    "\n",
    "print(linreg_mse1)\n",
    "\n",
    "# compute linreg error on dataset 2\n",
    "D = train2 = pd.read_csv('./data/dataset2_train.csv')\n",
    "test2 = pd.read_csv('./data/dataset2_test.csv')\n",
    "\n",
    "linreg_square_errors2 = []\n",
    "for idx, row in test2.iterrows():\n",
    "    X = row[0:3]\n",
    "    prediction = linreg_regression(D=D, X=X)\n",
    "    truth = row[3]\n",
    "    error = prediction - truth\n",
    "    linreg_square_errors2.append(error*error)\n",
    "linreg_mse2=np.mean(linreg_square_errors2)\n",
    "print('The mean squared error of linreg on test2 dataset is:')\n",
    "print(linreg_mse2)"
   ]
  },
  {
   "cell_type": "code",
   "execution_count": 297,
   "metadata": {},
   "outputs": [
    {
     "name": "stdout",
     "output_type": "stream",
     "text": [
      "The mean squared error of knn on test1 dataset is:\n",
      "14.5486140645868\n",
      "The mean squared error of linreg on test2 dataset is:\n",
      "6.4935661873427275\n"
     ]
    }
   ],
   "source": [
    "# compute linreg error on dataset 1\n",
    "D = train1 = pd.read_csv('./data/dataset1_train.csv')\n",
    "test1 = pd.read_csv('./data/dataset1_test.csv')\n",
    "\n",
    "knn_square_errors1 = []\n",
    "for idx, row in test1.iterrows():\n",
    "    X = row[0:3]\n",
    "    prediction = knn_regression(K=5,D=D, X=X)\n",
    "    truth = row[3]\n",
    "    error = prediction - truth\n",
    "    knn_square_errors1.append(error*error)\n",
    "\n",
    "print('The mean squared error of knn on test1 dataset is:')\n",
    "knn_mse1=np.mean(knn_square_errors1)\n",
    "print(knn_mse1)\n",
    "\n",
    "# compute linreg error on dataset 2\n",
    "D = train2 = pd.read_csv('./data/dataset2_train.csv')\n",
    "test2 = pd.read_csv('./data/dataset2_test.csv')\n",
    "\n",
    "knn_square_errors2 = []\n",
    "for idx, row in test2.iterrows():\n",
    "    X = row[0:3]\n",
    "    prediction = knn_regression(K=5,D=D, X=X)\n",
    "    truth = row[3]\n",
    "    error = prediction - truth\n",
    "    knn_square_errors2.append(error*error)\n",
    "    \n",
    "knn_mse2=np.mean(knn_square_errors2)\n",
    "print('The mean squared error of linreg on test2 dataset is:')\n",
    "print(knn_mse2)"
   ]
  },
  {
   "cell_type": "code",
   "execution_count": 298,
   "metadata": {},
   "outputs": [
    {
     "name": "stdout",
     "output_type": "stream",
     "text": [
      "The R for dataset 1 is:\n",
      "341.0014523096424\n",
      "The R for dataset 2 is:\n",
      "2.814956552071984\n"
     ]
    }
   ],
   "source": [
    "print('The R for dataset 1 is:')\n",
    "print(knn_mse1/linreg_mse1)\n",
    "\n",
    "print('The R for dataset 2 is:')\n",
    "print(knn_mse2/linreg_mse2)"
   ]
  },
  {
   "cell_type": "markdown",
   "metadata": {},
   "source": [
    "#### Apparently regression outperforms knn by a lot..."
   ]
  },
  {
   "cell_type": "code",
   "execution_count": null,
   "metadata": {},
   "outputs": [],
   "source": []
  }
 ],
 "metadata": {
  "kernelspec": {
   "display_name": "Python 3",
   "language": "python",
   "name": "python3"
  },
  "language_info": {
   "codemirror_mode": {
    "name": "ipython",
    "version": 3
   },
   "file_extension": ".py",
   "mimetype": "text/x-python",
   "name": "python",
   "nbconvert_exporter": "python",
   "pygments_lexer": "ipython3",
   "version": "3.7.7"
  }
 },
 "nbformat": 4,
 "nbformat_minor": 4
}
